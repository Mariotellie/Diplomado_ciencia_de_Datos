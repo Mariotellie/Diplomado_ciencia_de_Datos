{
 "cells": [
  {
   "cell_type": "markdown",
   "id": "5159cefc-5794-4ae5-b053-1f3fb0a44478",
   "metadata": {},
   "source": [
    "# Tarea 2"
   ]
  },
  {
   "cell_type": "markdown",
   "id": "bb4aa5d4-005e-4174-b094-aa17be4850fd",
   "metadata": {},
   "source": [
    "<figure>\n",
    "<img src=\"../imagenes/mario.jpg\"  width=\"80\" height=\"80\" align=\"Right\"/> \n",
    "</figure>\n",
    "\n",
    "# <span style=\"color:Black\"><left>Carlos Mario Barbosa T.</left></span>"
   ]
  },
  {
   "cell_type": "markdown",
   "id": "4783a298-e49a-440c-babf-1d8d3496cfa9",
   "metadata": {},
   "source": [
    "Cada ejercicio debe ser probado con un ejemplo de datos.\n",
    "1. Escriba una función  que reciba la fecha de nacimiento de un a persona y calcule la edad de la persona\n",
    "\n",
    "2. Crea una función EscribirCentrado, que reciba como parámetro un texto y lo escriba centrado en pantalla (suponiendo una anchura de 80 columnas; pista: deberás escribir 40 - longitud/2 espacios antes del texto).  \n",
    "\n",
    "\n",
    "3. Construya una función decorada que reciba un texto y lo escriba marcado con Markdown en itálica y resaltada (bold). Revise la lección de decoradores, no vista en clase.\n",
    "\n",
    "4.  Crea un programa que pida dos número enteros al usuario y diga si alguno de ellos es múltiplo del otro. \n",
    "\n",
    "\n",
    "5. Crear una función re reciba una lista  de 24 valores de temperatura leída  hora en un día y que calcule la temperatura media  Cree una lista con 24 valores de temperatura de un día de Bogotá y pruebe su función. Invente los datos.\n",
    "\n",
    "\n",
    "5. Crea un función “ConvertirEspaciado”, que reciba como parámetro un texto y devuelve una cadena con un espacio adicional tras cada letra. Por ejemplo, “Hola, tú” devolverá “H o l a , t ú “.  Pruebe \n",
    "\n",
    "6. Crea una función “calcularMaxMin” que recibe una arreglo con valores numérico y devuelve el valor máximo y el mínimo. \n",
    "7.  Diseñar una función que calcule el área y el perímetro de una circunferencia. \n",
    "\n",
    "8. Crear una función  llamada “Login”, que recibe un nombre de usuario y una contraseña y devuelva Verdadero si el nombre de usuario es “usuario1” y la contraseña es “asdasd”. Además recibe el número de intentos que se ha intentado hacer login y si no se ha podido hacer login incremente este valor.\n",
    "\n",
    "9. Crear una función recursiva que permita calcular el factorial de un número. Realiza un programa principal donde se lea un entero y se muestre el resultado del factorial. Revise la lección de funciones.\n",
    "\n",
    "10. Escribir dos funciones que permitan calcular La cantidad de segundos en un tiempo dado en horas, minutos y segundos.La cantidad de horas, minutos y segundos de un tiempo dado en segundos\n",
    "\n",
    "11. Crea una función  que lea una tupla, invierta los valores de la tupla y regrese una nueva tupla invirtiendo los valores. Recuerde que las tuplas son inmutables.\n",
    "\n",
    "12. Escriba una función que lea una lista y calcule la media geométrica de sus valores, usando funtools.reduce.\n",
    "\n",
    "Entregable.\n",
    "\n",
    "Enlace a la solución escrita en un cuaderno de Jupyter Lab y puesto en Github."
   ]
  },
  {
   "cell_type": "markdown",
   "id": "a1d3159f-560d-4be8-b057-4642cc0be1cf",
   "metadata": {},
   "source": [
    "## Solución"
   ]
  },
  {
   "cell_type": "markdown",
   "id": "9b002306-32df-4c9d-a4bb-8c20d71b6f99",
   "metadata": {},
   "source": [
    "#### <span style=\"color:REd\">1. Escriba una función  que reciba la fecha de nacimiento de un a persona y calcule la edad de la persona</span> "
   ]
  },
  {
   "cell_type": "code",
   "execution_count": 41,
   "id": "a9a77ade-e0cf-4fb9-9b62-5fbe95bed39a",
   "metadata": {},
   "outputs": [
    {
     "data": {
      "text/html": [
       "<div>\n",
       "<style scoped>\n",
       "    .dataframe tbody tr th:only-of-type {\n",
       "        vertical-align: middle;\n",
       "    }\n",
       "\n",
       "    .dataframe tbody tr th {\n",
       "        vertical-align: top;\n",
       "    }\n",
       "\n",
       "    .dataframe thead th {\n",
       "        text-align: right;\n",
       "    }\n",
       "</style>\n",
       "<table border=\"1\" class=\"dataframe\">\n",
       "  <thead>\n",
       "    <tr style=\"text-align: right;\">\n",
       "      <th></th>\n",
       "      <th>name</th>\n",
       "      <th>Edad</th>\n",
       "    </tr>\n",
       "  </thead>\n",
       "  <tbody>\n",
       "    <tr>\n",
       "      <th>0</th>\n",
       "      <td>Buddy Rogers</td>\n",
       "      <td>101</td>\n",
       "    </tr>\n",
       "    <tr>\n",
       "      <th>1</th>\n",
       "      <td>Bruno Sammartino</td>\n",
       "      <td>87</td>\n",
       "    </tr>\n",
       "    <tr>\n",
       "      <th>2</th>\n",
       "      <td>Ivan Koloff</td>\n",
       "      <td>80</td>\n",
       "    </tr>\n",
       "    <tr>\n",
       "      <th>3</th>\n",
       "      <td>Pedro Morales</td>\n",
       "      <td>80</td>\n",
       "    </tr>\n",
       "    <tr>\n",
       "      <th>4</th>\n",
       "      <td>Stan Stasiak</td>\n",
       "      <td>85</td>\n",
       "    </tr>\n",
       "    <tr>\n",
       "      <th>...</th>\n",
       "      <td>...</td>\n",
       "      <td>...</td>\n",
       "    </tr>\n",
       "    <tr>\n",
       "      <th>407</th>\n",
       "      <td>Becky Lynch</td>\n",
       "      <td>35</td>\n",
       "    </tr>\n",
       "    <tr>\n",
       "      <th>408</th>\n",
       "      <td>Charlotte Flair</td>\n",
       "      <td>36</td>\n",
       "    </tr>\n",
       "    <tr>\n",
       "      <th>409</th>\n",
       "      <td>Bayley</td>\n",
       "      <td>33</td>\n",
       "    </tr>\n",
       "    <tr>\n",
       "      <th>410</th>\n",
       "      <td>Charlotte Flair</td>\n",
       "      <td>36</td>\n",
       "    </tr>\n",
       "    <tr>\n",
       "      <th>411</th>\n",
       "      <td>Bayley</td>\n",
       "      <td>33</td>\n",
       "    </tr>\n",
       "  </tbody>\n",
       "</table>\n",
       "<p>409 rows × 2 columns</p>\n",
       "</div>"
      ],
      "text/plain": [
       "                 name  Edad\n",
       "0        Buddy Rogers   101\n",
       "1    Bruno Sammartino    87\n",
       "2         Ivan Koloff    80\n",
       "3       Pedro Morales    80\n",
       "4        Stan Stasiak    85\n",
       "..                ...   ...\n",
       "407       Becky Lynch    35\n",
       "408   Charlotte Flair    36\n",
       "409            Bayley    33\n",
       "410   Charlotte Flair    36\n",
       "411            Bayley    33\n",
       "\n",
       "[409 rows x 2 columns]"
      ]
     },
     "execution_count": 41,
     "metadata": {},
     "output_type": "execute_result"
    }
   ],
   "source": [
    "# funcion que permite calcular la edad de una persona\n",
    "import math\n",
    "import pandas as pd\n",
    "import datetime\n",
    "from seaborn import load_dataset\n",
    "from datetime import date, time, datetime\n",
    "import functools\n",
    "def edad(fecha_nacimiento):\n",
    "    fecha_nacimiento = str(fecha_nacimiento)\n",
    "    fecha_nacimiento = fecha_nacimiento.split(\"/\")\n",
    "    hoy = date.today()\n",
    "    año = int(fecha_nacimiento[2])\n",
    "    mes = int(fecha_nacimiento[0])\n",
    "    dia = int(fecha_nacimiento[1])\n",
    "    fecha_nac = date(año,mes,dia)\n",
    "    edad_dias = (hoy-fecha_nac).days\n",
    "    edad_años = edad_dias/365\n",
    "    return int(edad_años)\n",
    "\n",
    "    # Base de datos de los peleadores\n",
    "direccion_carpeta='../datos/'\n",
    "peleadores = pd.read_csv(direccion_carpeta+'peleadores.csv')\n",
    "peleadores=peleadores.dropna(subset=[\"date_of_birth\"], axis=0,inplace=False)\n",
    "peleadores['date_of_birth']=peleadores['date_of_birth'].apply(str)\n",
    "peleadores['Edad']=peleadores['date_of_birth'].apply(edad)\n",
    "peleadores[['name','Edad']]"
   ]
  },
  {
   "cell_type": "markdown",
   "id": "0efd84b1-e718-4d7c-a925-c6bdf0d544d5",
   "metadata": {},
   "source": [
    "#### <span style=\"color:REd\">2. Crea una función EscribirCentrado, que reciba como parámetro un texto y lo escriba centrado en pantalla (suponiendo una anchura de 80 columnas; pista: deberás escribir 40 - longitud/2 espacios antes del texto).</span> "
   ]
  },
  {
   "cell_type": "code",
   "execution_count": 99,
   "id": "be18a68a-e30c-4483-b1c7-cb357789555e",
   "metadata": {},
   "outputs": [
    {
     "name": "stdout",
     "output_type": "stream",
     "text": [
      "                       El Texto siguiente estara centrado\n",
      "                          igual que el siguiente texto\n"
     ]
    }
   ],
   "source": [
    "def EscribirCentrado(Texto):\n",
    "    longitud=len(Texto)\n",
    "    Espacio=int(40-(longitud/2))\n",
    "    return Espacio*' '+Texto\n",
    "print(EscribirCentrado('El Texto siguiente estara centrado'))\n",
    "print(EscribirCentrado('igual que el siguiente texto'))b"
   ]
  },
  {
   "cell_type": "markdown",
   "id": "c309651d-0244-4488-ac25-6394790779e0",
   "metadata": {},
   "source": [
    "#### <span style=\"color:REd\">3.Construya una función decorada que reciba un texto y lo escriba marcado con Markdown en itálica y resaltada (bold). Revise la lección de decoradores, no vista en clase.</span> "
   ]
  },
  {
   "cell_type": "code",
   "execution_count": 125,
   "id": "18b5f484-9453-439e-bdc3-aaefc330967a",
   "metadata": {
    "tags": []
   },
   "outputs": [
    {
     "name": "stdout",
     "output_type": "stream",
     "text": [
      "<b><i>hola Mario</i></b>\n"
     ]
    }
   ],
   "source": [
    "# decoradores\n",
    "def make_bold(fn):\n",
    "    def makebold_wrapper(x):\n",
    "        return \"<b>\" + fn(x) + \"</b>\"\n",
    "    return makebold_wrapper\n",
    "\n",
    "def make_italic(fn):\n",
    "    def makeitalic_wrapper(x):\n",
    "        return \"<i>\" + fn(x) + \"</i>\"\n",
    "    return makeitalic_wrapper\n",
    "\n",
    "# aplica los decoradores\n",
    "\n",
    "@make_bold\n",
    "@make_italic\n",
    "def Saludo(Name):\n",
    "    return 'hola '+Name\n",
    "\n",
    "print(Saludo('Mario'))"
   ]
  },
  {
   "cell_type": "markdown",
   "id": "67085ea4-fb20-46f7-af69-e4b39cfcd589",
   "metadata": {
    "tags": []
   },
   "source": [
    "<b><i>hola Mario</i></b>Crea un programa que pida dos número enteros al usuario y diga si alguno de ellos es múltiplo del otro."
   ]
  },
  {
   "cell_type": "markdown",
   "id": "bf9822ab-8f8d-4fa0-96cf-02f2abeb960a",
   "metadata": {},
   "source": [
    "#### <span style=\"color:REd\"> 4. Crea un programa que pida dos número enteros al usuario y diga si alguno de ellos es múltiplo del otro.</span> "
   ]
  },
  {
   "cell_type": "code",
   "execution_count": 130,
   "id": "4c47cb65-79fc-4464-9924-6d06777f6093",
   "metadata": {},
   "outputs": [
    {
     "name": "stdin",
     "output_type": "stream",
     "text": [
      "Escriba un numero 5\n",
      "Escriba un numero 99999995\n"
     ]
    },
    {
     "name": "stdout",
     "output_type": "stream",
     "text": [
      "5 y 99999995 son multiplos\n"
     ]
    }
   ],
   "source": [
    "a=int(input('Escriba un numero'))\n",
    "b=int(input('Escriba un numero'))\n",
    "def Multiplos(x,y):\n",
    "    try:\n",
    "        if x%y==0:\n",
    "            print('{} y {} son multiplos'.format(x,y))\n",
    "        elif y%x == 0:\n",
    "            print('{} y {} son multiplos'.format(x,y))\n",
    "        else:\n",
    "            print('{} y {}  NO son multiplos'.format(x,y))  \n",
    "    except:\n",
    "        print(\"Seleccione numeros validos\")\n",
    "Multiplos(a,b)"
   ]
  },
  {
   "cell_type": "markdown",
   "id": "8fe8413d-db8c-43c0-ad06-7f677d50ad74",
   "metadata": {},
   "source": [
    "#### <span style = \"color:RED\">5. Crear una función re reciba una lista de 24 valores de temperatura leída hora en un día y que calcule la temperatura media Cree una lista con 24 valores de temperatura de un día de Bogotá y pruebe su función. Invente los datos. </span>"
   ]
  },
  {
   "cell_type": "code",
   "execution_count": 135,
   "id": "94a401cf-45d4-4991-a16b-f6b6630dc4be",
   "metadata": {},
   "outputs": [
    {
     "data": {
      "text/plain": [
       "12.375"
      ]
     },
     "execution_count": 135,
     "metadata": {},
     "output_type": "execute_result"
    }
   ],
   "source": [
    "def TemMedia(Lista):\n",
    "    TemTotal=0\n",
    "    if len(Lista)==24:\n",
    "        for i in Lista:\n",
    "            TemTotal=TemTotal+i\n",
    "    else:\n",
    "        print('Longitud de lista invalido')\n",
    "    return TemTotal/len(Lista)\n",
    "Bogota=[10,10,11,11,11,11,14,14,19,19,14,14,14,14,15,15,11,11,10,10,9,9,10,11]\n",
    "TemMedia(Bogota)\n",
    "        "
   ]
  },
  {
   "cell_type": "markdown",
   "id": "0d1abb99-fece-467b-935c-fb0fcbaa6eba",
   "metadata": {},
   "source": [
    "#### <span style = \"color:RED\">6.Crea un función “ConvertirEspaciado”, que reciba como parámetro un texto y devuelve una cadena con un espacio adicional tras cada letra. Por ejemplo, “Hola, tú” devolverá “H o l a , t ú “. Pruebe </span>"
   ]
  },
  {
   "cell_type": "code",
   "execution_count": 139,
   "id": "c6be20d8-ca8a-4193-8b4d-d5d7fdf7ad9d",
   "metadata": {},
   "outputs": [
    {
     "name": "stdout",
     "output_type": "stream",
     "text": [
      "H o l a ,   t u "
     ]
    }
   ],
   "source": [
    "def ConvertirEspacio(Text):\n",
    "    ListLetras=[]\n",
    "    for i in Text:\n",
    "        ListLetras.append(i)\n",
    "    for i in ListLetras:\n",
    "        print(i, end=' ')\n",
    "ConvertirEspacio(\"Hola, tu\")\n",
    "    \n",
    "        \n",
    "    "
   ]
  },
  {
   "cell_type": "markdown",
   "id": "86f642bf-8bf8-4e5f-a894-15f19fc358e7",
   "metadata": {},
   "source": [
    "#### <span style = \"color:RED\"> 7.Crea una función “calcularMaxMin” que recibe una arreglo con valores numérico y devuelve el valor máximo y el mínimo. </span>"
   ]
  },
  {
   "cell_type": "code",
   "execution_count": 143,
   "id": "5ceea5d1-949e-4449-a176-7b34fbc9c256",
   "metadata": {},
   "outputs": [
    {
     "name": "stdout",
     "output_type": "stream",
     "text": [
      "El Maximo es 101 y el minimo es 30 \n"
     ]
    }
   ],
   "source": [
    "def CalculaMaxMin(lista):\n",
    "    Maximo=max(lista)\n",
    "    Minimo=min(lista)\n",
    "    print('El Maximo es {} y el minimo es {} '.format(Maximo,Minimo))\n",
    "CalculaMaxMin(peleadores[\"Edad\"])  "
   ]
  },
  {
   "cell_type": "markdown",
   "id": "21ebded1-a522-4b1e-bde7-9f4fdef017a2",
   "metadata": {},
   "source": [
    "#### <span style = \"color:RED\">8. Diseñar una función que calcule el área y el perímetro de una circunferencia. </span>"
   ]
  },
  {
   "cell_type": "code",
   "execution_count": 145,
   "id": "164fc79f-7853-4471-ab5c-724ccc939e5b",
   "metadata": {},
   "outputs": [
    {
     "name": "stdout",
     "output_type": "stream",
     "text": [
      "El Area es 314.1592653589793 y el perimetro es 62.83185307179586 \n"
     ]
    }
   ],
   "source": [
    "def AreaPerimetroCircunf(r):\n",
    "    Area=math.pi*(r**2)\n",
    "    Perimetro=2*math.pi*r\n",
    "    print('El Area es {} y el perimetro es {} '.format(Area,Perimetro))\n",
    "AreaPerimetroCircunf(10)"
   ]
  },
  {
   "cell_type": "markdown",
   "id": "3722503a-5dd5-410a-ae84-211d5eb4afb3",
   "metadata": {
    "tags": []
   },
   "source": [
    "#### <span style ='color:red'> 9. Crear una función llamada “Login”, que recibe un nombre de usuario y una contraseña y devuelva Verdadero si el nombre de usuario es “usuario1” y la contraseña es “asdasd”. Además recibe el número de intentos que se ha intentado hacer login y si no se ha podido hacer login incremente este valor.  </span>"
   ]
  },
  {
   "cell_type": "code",
   "execution_count": 1,
   "id": "fd924240-147d-46b9-81f6-57eb3745d47c",
   "metadata": {},
   "outputs": [
    {
     "name": "stdout",
     "output_type": "stream",
     "text": [
      "Usuario Invalido\n"
     ]
    },
    {
     "name": "stdin",
     "output_type": "stream",
     "text": [
      "Ingrese el nombre de usuario usuario1\n"
     ]
    },
    {
     "name": "stdout",
     "output_type": "stream",
     "text": [
      "Cotraseña Incorrecta\n"
     ]
    },
    {
     "name": "stdin",
     "output_type": "stream",
     "text": [
      "Introduzca cotraseña asdasd\n"
     ]
    },
    {
     "name": "stdout",
     "output_type": "stream",
     "text": [
      "Acceso concedido\n",
      "numero de intentos 1\n"
     ]
    }
   ],
   "source": [
    "def Login(usuario,password):\n",
    "    contador=1\n",
    "    while usuario!='usuario1':\n",
    "        print('Usuario Invalido')\n",
    "        usuario=str(input('Ingrese el nombre de usuario'))\n",
    "        contador+=1\n",
    "    while password!='asdasd':\n",
    "        print('Cotraseña Incorrecta')\n",
    "        password=input('Introduzca cotraseña')\n",
    "    print('Acceso concedido')\n",
    "    print('numero de intentos '+str(contador))\n",
    "Login('sf','dfgd') "
   ]
  },
  {
   "cell_type": "markdown",
   "id": "67ce3e1b-79f0-4dbc-b3e5-7abe80fce064",
   "metadata": {},
   "source": [
    "#### <span style ='color:red'>10.Crear una función llamada “Login”, que recibe un nombre de usuario y una contraseña y devuelva Verdadero si el nombre de usuario es “usuario1” y la contraseña es “asdasd”. Además recibe el número de intentos que se ha intentado hacer login y si no se ha podido hacer login incremente este valor.</span>"
   ]
  },
  {
   "cell_type": "code",
   "execution_count": 47,
   "id": "c4c6b48c-cf1d-4f64-87a9-ffbf2e1c93f9",
   "metadata": {},
   "outputs": [
    {
     "name": "stdout",
     "output_type": "stream",
     "text": [
      "362880\n",
      "362880\n"
     ]
    }
   ],
   "source": [
    "def Factorial(x):\n",
    "    j=1\n",
    "    for i in range(1,x+1):\n",
    "        j=i*j\n",
    "    return j\n",
    "\n",
    "\n",
    "#otra manera que se me ocurrio\n",
    "def facto(x):\n",
    "    lista=[]\n",
    "    for i in range(1,x+1):\n",
    "        lista.append(i)\n",
    "    return functools.reduce(lambda a, b: a*b, lista)\n",
    "\n",
    "\n",
    "print(Factorial(9))\n",
    "print(facto(9))\n"
   ]
  },
  {
   "cell_type": "markdown",
   "id": "9be757e0-084b-4baf-93b0-2787d9be3efd",
   "metadata": {},
   "source": [
    "#### <span style ='color:red'>11. Escribir dos funciones que permitan calcular La cantidad de segundos en un tiempo dado en horas, minutos y segundos.La cantidad de horas, minutos y segundos de un tiempo dado en segundos</span>"
   ]
  },
  {
   "cell_type": "code",
   "execution_count": 39,
   "id": "22a5dd62-9d8a-4e22-94e5-5d30ffdc793e",
   "metadata": {},
   "outputs": [
    {
     "name": "stdout",
     "output_type": "stream",
     "text": [
      "29104\n"
     ]
    },
    {
     "data": {
      "text/plain": [
       "datetime.time(8, 5, 4)"
      ]
     },
     "execution_count": 39,
     "metadata": {},
     "output_type": "execute_result"
    }
   ],
   "source": [
    "\n",
    "def Segundos(Horas,minutos,segundos):\n",
    "    Seg_hora=Horas*3600\n",
    "    Seg_min=minutos*60\n",
    "    segundos=Seg_hora+Seg_min+segundos\n",
    "    return segundos\n",
    "\n",
    "print(Segundos(8,5,4))\n",
    "    \n",
    "def hor_min_seg(x):\n",
    "    h=x//3600\n",
    "    m=(x%3600)//60\n",
    "    s=(x%3600)%60\n",
    "    t=time(h,m,s)\n",
    "    return t\n",
    "hor_min_seg(29104)"
   ]
  },
  {
   "cell_type": "markdown",
   "id": "19f6536c-d12c-48d9-b7a0-3397c15abbba",
   "metadata": {},
   "source": [
    "#### <span style ='color:red'>12. Crea una función que lea una tupla, invierta los valores de la tupla y regrese una nueva tupla invirtiendo los valores. Recuerde que las tuplas son inmutables.</span>"
   ]
  },
  {
   "cell_type": "code",
   "execution_count": 40,
   "id": "e4565449-4c91-48a2-b8e7-ec4ea04142f6",
   "metadata": {},
   "outputs": [
    {
     "data": {
      "text/plain": [
       "(9, 8, 7, 6, 5, 4, 3, 2, 1)"
      ]
     },
     "execution_count": 40,
     "metadata": {},
     "output_type": "execute_result"
    }
   ],
   "source": [
    "def Tupla_al_reves(tuplita):\n",
    "    lista=[]\n",
    "    for i in tuplita:\n",
    "        lista.append(i)\n",
    "    lista1=reversed(lista)\n",
    "    return tuple(lista1)\n",
    "\n",
    "a=(1,2,3,4,5,6,7,8,9)\n",
    "Tupla_al_reves(a)"
   ]
  },
  {
   "cell_type": "markdown",
   "id": "0ba8a622-27f3-42bc-bc3d-402f05982559",
   "metadata": {},
   "source": [
    "#### <span style ='color:red'>13. Escriba una función que lea una lista y calcule la media geométrica de sus valores, usando funtools.reduce.</span>"
   ]
  },
  {
   "cell_type": "markdown",
   "id": "41b55a65-fe00-4151-bb8e-79d325726375",
   "metadata": {},
   "source": [
    "### Media geométrica\n",
    "\n",
    ">${\\displaystyle {\\bar {x}}={\\sqrt[{n}]{\\prod _{i=1}^{n}{x_{i}}}}={\\sqrt[{n}]{x_{1}\\cdot x_{2}\\cdots x_{n}}}}$"
   ]
  },
  {
   "cell_type": "code",
   "execution_count": 45,
   "id": "2e93c6b5-1a7c-4c52-97c1-8d393394ac6b",
   "metadata": {},
   "outputs": [
    {
     "data": {
      "text/plain": [
       "3.0"
      ]
     },
     "execution_count": 45,
     "metadata": {},
     "output_type": "execute_result"
    }
   ],
   "source": [
    "lis=[1,3,9] \n",
    "def med_geo(lista):\n",
    "    p=functools.reduce(lambda a, b: a*b, lista)\n",
    "    n=1/len(lista)\n",
    "    return p**n\n",
    "med_geo(lis)"
   ]
  }
 ],
 "metadata": {
  "kernelspec": {
   "display_name": "Python 3 (ipykernel)",
   "language": "python",
   "name": "python3"
  },
  "language_info": {
   "codemirror_mode": {
    "name": "ipython",
    "version": 3
   },
   "file_extension": ".py",
   "mimetype": "text/x-python",
   "name": "python",
   "nbconvert_exporter": "python",
   "pygments_lexer": "ipython3",
   "version": "3.8.13"
  }
 },
 "nbformat": 4,
 "nbformat_minor": 5
}
