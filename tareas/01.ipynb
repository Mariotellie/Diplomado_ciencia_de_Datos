{
 "cells": [
  {
   "cell_type": "markdown",
   "id": "6edf3ca6-61e2-47e8-b809-57612bae25e9",
   "metadata": {},
   "source": [
    "<figure>\n",
    "<img src=\"../imagenes/mario.jpg\"  width=\"80\" height=\"80\" align=\"Right\"/> \n",
    "</figure>\n",
    "\n",
    "# <span style=\"color:Black\"><left>Carlos Mario Barbosa T.</left></span>"
   ]
  },
  {
   "cell_type": "markdown",
   "id": "124a2847-50c7-4055-a59b-dfd0f7b3a335",
   "metadata": {},
   "source": [
    "> 27- Marzo -1993\\n",
    "\n",
    "> Cel: 3144779013\\n",
    "\n",
    "> cmbarbosat@gmail.com Bogota, Cundinamarca\n"
   ]
  },
  {
   "cell_type": "markdown",
   "id": "06de1ec8-f665-4829-abf8-54062124986d",
   "metadata": {},
   "source": [
    "Matemático de la Universidad Nacional de Colombia. Gran capacidad de aprendizaje y de resolución de problemas. Como matemático me considero muy  responsable, puntual y con  un pensamiento estructurado. Por eso mismo quiero aprender lo necesario para adaptarme a los retos de la actualidad colombiana en tecnología y educación. ACtualmente trabajo en la docencia y en busca de nuevos retos en la ciencia de datos.\n",
    "\n",
    "---"
   ]
  },
  {
   "cell_type": "markdown",
   "id": "dfe65aea-ecce-4b16-9d92-28708adc0def",
   "metadata": {
    "slideshow": {
     "slide_type": "slide"
    },
    "tags": []
   },
   "source": [
    "## <span style=\"color:blue\">Contenido</span>"
   ]
  },
  {
   "cell_type": "markdown",
   "id": "a9936c68-f2ce-401c-a3f5-20532acee3c7",
   "metadata": {},
   "source": [
    "1. [Ventajas](#Ventajas-del-análisis-de-datos)\n",
    "1. [Tipos de Datos](#Tipos-de-Datos)\n",
    "1. [Estadistica](#Estadistica)\n",
    "   * [Media](#Visualización)\n",
    "   * [Mediana](#Visualización)\n",
    "   * [Moda](#Visualización)"
   ]
  },
  {
   "cell_type": "markdown",
   "id": "88014e64-bb5a-4340-a7eb-7e803c9705fb",
   "metadata": {},
   "source": [
    "<figure>\n",
    "<img src=\"../imagenes/corazon.jpg\"  width=\"80\" height=\"80\" align=\"left\"/> \n",
    "</figure>\n",
    "\n",
    "# <span style=\"color:Blue\"><left>Ventajas del análisis de datos</left></span>\n"
   ]
  },
  {
   "cell_type": "markdown",
   "id": "e5a6e0d0-2022-44d7-af77-a703fc38c4e5",
   "metadata": {},
   "source": [
    " *Realizar un análisis de datos profundo a través de las técnicas y las herramientas adecuadas puede brindarte múltiples beneficios para tu investigación, entre los que destacan:*"
   ]
  },
  {
   "cell_type": "markdown",
   "id": "ea76d4a7-b0d0-4aa9-974a-025564f2ac51",
   "metadata": {},
   "source": [
    "* Capacidad para tomar decisiones de negocios más rápidas e informadas, respaldadas por hechos.\n",
    "\n",
    "* Ayuda a las empresas a identificar problemas de rendimiento que requieren algún tipo de acción.\n",
    "\n",
    "* Comprensión más profunda de los requisitos de los clientes, lo que, a su vez, crea mejores relaciones comerciales.\n",
    "\n",
    "* Mayor conciencia del riesgo, permitiendo la implementación de medidas preventivas.\n",
    "\n",
    "* Puede verse de forma visual, lo que permite tomar decisiones más rápidas y mejores.\n",
    "\n",
    "* Puede proporcionar a una empresa una ventaja sobre sus competidores.\n",
    "\n",
    "* Mejor conocimiento del desempeño financiero del negocio.\n",
    "\n",
    "* Se ha demostrado que reduce los costos y, por lo tanto, aumenta los beneficios."
   ]
  },
  {
   "cell_type": "markdown",
   "id": "6c49235f-148f-4b6d-8e61-0346e9626791",
   "metadata": {},
   "source": [
    "# <span style=\"color:Blue\"><left>Tipos de Datos</left></span>"
   ]
  },
  {
   "cell_type": "markdown",
   "id": "5504384c-b23b-47bf-918c-d18b5845a3be",
   "metadata": {},
   "source": [
    "|              |Tipos de datos | | | |\n",
    "|:-------------------:|---|---|---|---|\n",
    "|**Cualitativo**   | Se centra en las opiniones, actitudes y creencias.| | | |\n",
    "|**Cuantitativo**  | Se centra en los datos duros e información que pueda contabilizarse. | | | |"
   ]
  },
  {
   "cell_type": "markdown",
   "id": "cdff1651-8c23-408e-bc18-0038099a20e5",
   "metadata": {},
   "source": [
    "# <span style=\"color:Blue\"><left>Estadistica</left></span>"
   ]
  },
  {
   "cell_type": "markdown",
   "id": "b4f5801e-9d27-40e8-a90e-3f902405c05b",
   "metadata": {},
   "source": [
    "### <span style=\"color:Blue\"><left>Media</left></span>\n",
    "\n",
    "La *media aritmética* es un promedio estándar que a menudo se denomina promedio.\n",
    "\n",
    "> $\\displaystyle{\\bar{x}=\\frac{1}{n}\\sum_{i+1}^{n}x_{i}}$\n",
    "\n",
    "**Media:** [Wikipedia](https://es.wikipedia.org/wiki/Media_(matem%C3%A1ticas))"
   ]
  },
  {
   "cell_type": "markdown",
   "id": "a7d5633f-d3ca-4bca-aaca-5815b3255245",
   "metadata": {},
   "source": [
    "### <span style=\"color:Blue\"><left>Mediana</left></span>\n",
    "\n",
    " Sean $\\displaystyle{ x_{1},x_{2},x_{3},\\ldots ,x_{n}}$ los datos de una muestra ordenada en orden creciente y designando la mediana como $\\displaystyle{M_{e}}$, distinguimos dos casos:\n",
    "\n",
    ">* Si $n$ es impar, la mediana es el valor que ocupa la posición $\\displaystyle{ (n+1)/2}$ una vez >que los datos han sido ordenados (en orden creciente o decreciente), porque este es el valor central. >Es decir:$\\displaystyle {M_{e}=x_{(n+1)/2}}$. La *media aritmética* es un promedio estándar que a >menudo se denomina promedio.\n",
    ">\n",
    ">* Si $n$ es par, la mediana es la media aritmética de los dos valores centrales. Cuando >${\\displaystyle n}$ es par, los dos datos que están en el centro de la muestra ocupan las posiciones >${\\displaystyle n/2}$ y ${\\displaystyle (n/2)+1}$. Es decir: $\\displaystyle M_{e}=\\left(x_{\\frac {n}{2}}+x_{{\\frac {n}{2}}+1}\\right)/2$.\n",
    "\n",
    "**Media:** [Wikipedia](https://es.wikipedia.org/wiki/Mediana_(estad%C3%ADstica))"
   ]
  },
  {
   "cell_type": "markdown",
   "id": "ed76f0a9-b627-42a5-923f-2354ede4fbad",
   "metadata": {
    "tags": []
   },
   "source": [
    "### <span style=\"color:Blue\"><left>Moda</left></span>\n",
    "En la estadística, la moda es el valor que aparece con mayor frecuencia en un conjunto de datos.\n",
    "Para obtener la moda en datos agrupados se usa la siguiente fórmula:\n",
    "\n",
    ">${\\displaystyle M=L_{i}+\\left({\\frac {D_{1}}{D_{1}+D_{2}}}\\right)A_{i}}$\n",
    ">Donde:\n",
    ">\n",
    ">>${\\displaystyle L_{i}=}$ Límite inferior de la clase modal.\\\n",
    ">>${\\displaystyle D_{1}=}$ es la diferencia entre la frecuencia absoluta modal y la frecuencia absoluta premodal.\\\n",
    ">>${\\displaystyle D_{2}=}$ es la diferencia entre la frecuencia absoluta modal y la frecuencia absoluta postmodal.\\\n",
    ">>${\\displaystyle A_{i}}=$ Amplitud del intervalo modal\n",
    "\n",
    "**Moda:** [Wikipedia](https://es.wikipedia.org/wiki/Moda_(estad%C3%ADstica))"
   ]
  },
  {
   "cell_type": "code",
   "execution_count": null,
   "id": "f6543afa-ad72-4732-ae5d-ca1d1cc06b6d",
   "metadata": {},
   "outputs": [],
   "source": []
  }
 ],
 "metadata": {
  "kernelspec": {
   "display_name": "Python 3 (ipykernel)",
   "language": "python",
   "name": "python3"
  },
  "language_info": {
   "codemirror_mode": {
    "name": "ipython",
    "version": 3
   },
   "file_extension": ".py",
   "mimetype": "text/x-python",
   "name": "python",
   "nbconvert_exporter": "python",
   "pygments_lexer": "ipython3",
   "version": "3.8.13"
  }
 },
 "nbformat": 4,
 "nbformat_minor": 5
}
