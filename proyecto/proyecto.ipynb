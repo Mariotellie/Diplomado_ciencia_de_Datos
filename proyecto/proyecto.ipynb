{
 "cells": [
  {
   "cell_type": "markdown",
   "id": "2eb69c71-b102-42ab-8ac5-ce7e2b10139b",
   "metadata": {},
   "source": [
    "# <span style=\"color:#008080\"><left> Título: Opiniones de usuarios de Reddit sobre el conflicto armado entre Rusia y Ucrania </left></span>\n"
   ]
  },
  {
   "cell_type": "markdown",
   "id": "592f1efc-9a71-4ff1-875e-ab84c275941a",
   "metadata": {},
   "source": [
    "## Reporte No. 1. Propuesta del proyecto\n"
   ]
  },
  {
   "cell_type": "markdown",
   "id": "0ab9a22e-1f5d-4ac7-9d4f-46044d0fc6d5",
   "metadata": {},
   "source": [
    "### Asesor principal: \n",
    "Daniel Montenegro"
   ]
  },
  {
   "cell_type": "markdown",
   "id": "a34c05e3-960c-414b-9486-770836414248",
   "metadata": {},
   "source": [
    "### Autores\n",
    "- Carlos Mario Barbosa\n",
    "- Andres Felipe Alfonso Cristancho\n",
    "- Miguel Angel Garcia "
   ]
  },
  {
   "cell_type": "markdown",
   "id": "5e6e7887-64ec-473f-b64c-0e25ffb5054e",
   "metadata": {
    "tags": []
   },
   "source": [
    "### Descripción del problema\n",
    "La actual problemática que se presenta en Europa del Este con la guerra entre Rusia y Ucrania nos ha llevado a preguntarnos ¿qué piensa la gente respecto a este conflicto? Para ello analizaremos los posts y comentarios realizados en Reddit, con el fin de encontrar las posturas de los usuarios de esta red sobre el conflicto.\n",
    "\n"
   ]
  },
  {
   "cell_type": "markdown",
   "id": "d3d9c4bd-bcac-43fe-b3a6-0c9fdb541b52",
   "metadata": {},
   "source": [
    "### Fuentes de datos\n",
    "Para responder a este problema se utilizará una base de datos encontrada en Kaggle, la cual contiene posts y comentarios categorizados de la siguiente manera:\n",
    "- Controversial (controversial)\n",
    "- Hot (en Tendencia)\n",
    "- New (Reciente)\n",
    "- Top (Destacado)\n",
    "\n",
    "\n",
    "URL: https://www.kaggle.com/datasets/tariqsays/reddit-russiaukraine-conflict-dataset\n",
    "\n"
   ]
  },
  {
   "cell_type": "markdown",
   "id": "b9bb7a36-fc7f-4787-bd52-c763b1002f4e",
   "metadata": {},
   "source": [
    "### Procesamiento ETL\n",
    "\n",
    "Los datos se obtendrán de la base de datos mencionada. Se revisarán los espacios nulos para hacer la limpieza de ser necesario y finalmente se concatenarán los datos en dos DataFrame uno para los comentarios y uno para los Posts para comenzar con el procesamiento analítico."
   ]
  },
  {
   "cell_type": "markdown",
   "id": "d8220f7d-ee22-4157-8c46-64588ca7bc56",
   "metadata": {},
   "source": [
    "### Exploración de los datos\n",
    "Como primera instancia se utilizará LDA para hacer una calificación de los posts y comentarios y así tener un primer acercamiento de los diferentes temas tratados.  "
   ]
  },
  {
   "cell_type": "markdown",
   "id": "5d342582-e8e5-4425-801a-c75a206e7aef",
   "metadata": {
    "tags": []
   },
   "source": [
    "### Técnicas de modelación propuestas\n",
    "Inicialmente se quiere realizar un modelo automático para hacer <em>clustering</em> a los datos que tenemos y cada vez que se le ingrese uno nuevo, este sea categorizado. Luego se discutió utilizar </em>Cross-encoders</em> para ver si los comentarios de un post están en contradicción, de acuerdo o en una posición neutral respecto a la publicación que están respondiendo."
   ]
  },
  {
   "cell_type": "markdown",
   "id": "a6c83ae4-ca22-408a-850e-67aaaf1031c2",
   "metadata": {},
   "source": [
    "Conocimientos requeridos para el desarrollo del proyecto:\n",
    "- Python: \n",
    "    - Pandas\n",
    "    - NLTK\n",
    "    - MatPlotLib\n",
    "    - Gensim\n",
    "    - SBERT\n",
    "- Modelos de lenguaje natural"
   ]
  },
  {
   "cell_type": "markdown",
   "id": "780e85f7-9d65-4eec-9782-ab8254915a35",
   "metadata": {},
   "source": [
    "### Tiempo de desarrollo esperado\n",
    "5 semanas."
   ]
  },
  {
   "cell_type": "code",
   "execution_count": null,
   "id": "50ad2eb1-1472-4cc7-94fe-27954090e3ab",
   "metadata": {},
   "outputs": [],
   "source": []
  }
 ],
 "metadata": {
  "kernelspec": {
   "display_name": "Python 3 (ipykernel)",
   "language": "python",
   "name": "python3"
  },
  "language_info": {
   "codemirror_mode": {
    "name": "ipython",
    "version": 3
   },
   "file_extension": ".py",
   "mimetype": "text/x-python",
   "name": "python",
   "nbconvert_exporter": "python",
   "pygments_lexer": "ipython3",
   "version": "3.9.13"
  }
 },
 "nbformat": 4,
 "nbformat_minor": 5
}
