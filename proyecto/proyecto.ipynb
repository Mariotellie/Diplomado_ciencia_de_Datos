{
 "cells": [
  {
   "cell_type": "markdown",
   "id": "8ab8f2ed-0232-4658-8762-c9b4dd704e35",
   "metadata": {
    "slideshow": {
     "slide_type": "slide"
    },
    "tags": []
   },
   "source": [
    "<figure>\n",
    "<img src=\"../proyecto/imagenes/proyecto.png\"  width=\"200\" height=\"200\" align=\"left\"/> \n",
    "</figure>\n",
    "\n",
    "# <span style=\"color:blue\"><left>Diplomado ciencia de datos</left></span>"
   ]
  },
  {
   "cell_type": "markdown",
   "id": "2eb69c71-b102-42ab-8ac5-ce7e2b10139b",
   "metadata": {},
   "source": [
    "# <span style=\"color:#008080\"><left> Titulo:¿Cuál es el sentimiento público en Reddit sobre el conflicto en curso?</left></span>"
   ]
  },
  {
   "cell_type": "markdown",
   "id": "592f1efc-9a71-4ff1-875e-ab84c275941a",
   "metadata": {},
   "source": [
    "### Reporte No. 1. Propuesta del proyecto\n",
    "La problematica que se presenta en la actualidad con respecto a la guerra que se lleva acabo en ukrania nos ha llevado ha analizar los diferentes tipos de redes sociales, en nuestro caso revisaremos una base de datos de reddit para entender las posturas en esta red sobre el conflicto, Planeamos realizar lenguaje natural para analizar los textos de los comentarios  titulos y demas.\n",
    "\n",
    "¿Qué problema pretende resolver tu proyecto?\n",
    "\n",
    "¿Qué se sabe ya sobre este problema?\n",
    "\n",
    "¿Quién ya se ha ocupado de este problema antes o qué se ha investigado al respecto?\n",
    "\n",
    "¿Por qué las investigaciones anteriores no son suficientes para abordar este problema?"
   ]
  },
  {
   "cell_type": "markdown",
   "id": "0ab9a22e-1f5d-4ac7-9d4f-46044d0fc6d5",
   "metadata": {},
   "source": [
    "### Asesor principal: \n",
    "Daniel Montenegro"
   ]
  },
  {
   "cell_type": "markdown",
   "id": "a34c05e3-960c-414b-9486-770836414248",
   "metadata": {},
   "source": [
    "### Autores\n",
    "- Carlos Mario Barbosa\n",
    "-\n",
    "-"
   ]
  },
  {
   "cell_type": "markdown",
   "id": "5e6e7887-64ec-473f-b64c-0e25ffb5054e",
   "metadata": {
    "tags": []
   },
   "source": [
    "### Descripción del problema"
   ]
  },
  {
   "cell_type": "markdown",
   "id": "d3d9c4bd-bcac-43fe-b3a6-0c9fdb541b52",
   "metadata": {},
   "source": [
    "### Fuentes de datos\n",
    "-\n",
    "-\n"
   ]
  },
  {
   "cell_type": "markdown",
   "id": "b9bb7a36-fc7f-4787-bd52-c763b1002f4e",
   "metadata": {},
   "source": [
    "### Procesamiento ETL\n",
    "\n",
    "Recuerden que ETL significa Extracción, Transformación y Carga de datos). Describen como se hará todo el proeprocesmaiento de información\n"
   ]
  },
  {
   "cell_type": "markdown",
   "id": "d8220f7d-ee22-4157-8c46-64588ca7bc56",
   "metadata": {},
   "source": [
    "### Exploración de los datos\n",
    "Indicar que técnicas usaran inicialmente para describir y entender sus datos:\n",
    " Muestras de los datos"
   ]
  },
  {
   "cell_type": "markdown",
   "id": "b5bc1b33-73ef-46e3-a3fb-2b3c67e4d8a8",
   "metadata": {
    "tags": []
   },
   "source": [
    "### Estadisticas y grafica univariadas\n",
    "Técnicas factoriales: ACP, ...\n",
    "\n",
    "\n",
    "\n",
    "-\n",
    "\n",
    "Resultados esperados\n",
    "-\n",
    "-\n",
    "\n"
   ]
  },
  {
   "cell_type": "markdown",
   "id": "5d342582-e8e5-4425-801a-c75a206e7aef",
   "metadata": {
    "tags": []
   },
   "source": [
    "### Técnicas de modelación propuestas\n",
    "Se espera que hayan sido discutidas con algún asesor (profesor) previamente."
   ]
  },
  {
   "cell_type": "markdown",
   "id": "a6c83ae4-ca22-408a-850e-67aaaf1031c2",
   "metadata": {},
   "source": [
    "Conocimientos requeridos para el desarrollo del proyecto\n",
    "Se espera que se hayan discutido previamente con el asesor \n",
    "- Bases de datos relacionales y no relacionales\n",
    "- SQL\n",
    "- Python : nivel\n",
    "- R, nivel\n",
    "- Modelos supervisados: explicativos o predictivos\n",
    "- Modelos no supervisados\n",
    "- Modelos de lenguaje natural"
   ]
  },
  {
   "cell_type": "markdown",
   "id": "780e85f7-9d65-4eec-9782-ab8254915a35",
   "metadata": {},
   "source": [
    "### Tiempo de desarrollo esperado\n",
    "No puede ser mayor a 6 semanas."
   ]
  }
 ],
 "metadata": {
  "kernelspec": {
   "display_name": "Python 3 (ipykernel)",
   "language": "python",
   "name": "python3"
  },
  "language_info": {
   "codemirror_mode": {
    "name": "ipython",
    "version": 3
   },
   "file_extension": ".py",
   "mimetype": "text/x-python",
   "name": "python",
   "nbconvert_exporter": "python",
   "pygments_lexer": "ipython3",
   "version": "3.9.13"
  }
 },
 "nbformat": 4,
 "nbformat_minor": 5
}
