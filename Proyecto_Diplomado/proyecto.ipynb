{
 "cells": [
  {
   "cell_type": "markdown",
   "id": "eeb28f20-aa05-4a3d-a0e8-5a19c28414f0",
   "metadata": {},
   "source": [
    "<figure>\n",
    "<img src=\"../proyecto/imagenesp/EuropeanLogo.png\"  width=\"80\" height=\"80\" align=\"left\"/> \n",
    "</figure>\n",
    "\n",
    "# <span style=\"color:blue\"><left>Europena Soccer Data </left></span>"
   ]
  },
  {
   "cell_type": "markdown",
   "id": "cb7d7ff4-ff24-476b-be52-907dd0fa7dff",
   "metadata": {},
   "source": [
    "\n",
    "\n",
    "### Prediccion competiciones Europeas\n",
    "\n",
    "#### Reporte No. 1. Inerencia en tendencias de los resultados en competiciones Europeas.\n",
    "\n",
    "\n",
    "\n"
   ]
  },
  {
   "cell_type": "markdown",
   "id": "37d0e359-ed73-4260-b3b2-184dc56f0b73",
   "metadata": {},
   "source": [
    "### Asesor principal:\n",
    "\n"
   ]
  },
  {
   "cell_type": "markdown",
   "id": "e211c408-fbcc-4318-a50d-0954bef9e984",
   "metadata": {},
   "source": [
    "### Autores\n",
    " - Carlos Mario Barbosa T.\n",
    " - Andy\n",
    " - baldangel\n"
   ]
  },
  {
   "cell_type": "markdown",
   "id": "d582d607-f8c5-463c-b4cb-ca5fc3c92b36",
   "metadata": {},
   "source": [
    "### Introducción\n",
    "  -\n",
    "  -"
   ]
  },
  {
   "cell_type": "markdown",
   "id": "eedb2950-080a-490c-8a6b-66c02274b057",
   "metadata": {},
   "source": [
    "### Descripción del problema\n",
    "   -\n",
    "   -\n"
   ]
  },
  {
   "cell_type": "markdown",
   "id": "463ff724-e3ca-4cad-9ec5-b118c751b888",
   "metadata": {},
   "source": [
    "### Fuentes de datos\n",
    "-\n",
    "-"
   ]
  },
  {
   "cell_type": "markdown",
   "id": "680463db-45e2-47f7-83bb-3af1b817db9e",
   "metadata": {},
   "source": [
    "### Procesamiento ETL\n",
    "#### Recuerden que ETL significa Extracción, Transformación y Carga de datos). Describen como se hará todo el proeprocesmaiento de información.  \n",
    " -\n",
    " -\n"
   ]
  },
  {
   "cell_type": "markdown",
   "id": "35720af9-31a4-47ae-88d5-d8180b7ee1c5",
   "metadata": {},
   "source": [
    "### Exploración de los datos\n",
    "IndTécnicas de modelación propuestas\n",
    "Se espera que hayan sido discutidas con algún asesor (profesor) previamente.icar que técnicas usaran inicialmente para describir y entender sus datos:\n",
    " Muestras de los datos\n",
    "Estadisticas y grafica univariadas\n",
    "Técnicas factoriales: ACP, ...\n"
   ]
  },
  {
   "cell_type": "markdown",
   "id": "398044d4-e667-4f37-9649-8befb18417ee",
   "metadata": {},
   "source": [
    "### Técnicas de modelación propuestas\n",
    "Se espera que hayan sido discutidas con algún asesor (profesor) previamente."
   ]
  },
  {
   "cell_type": "markdown",
   "id": "869d6b46-4034-4817-93d8-8bec30d9e81c",
   "metadata": {},
   "source": [
    "### Conocimientos requeridos para el desarrollo del proyecto. Se espera que se hayan discutido previamente con el asesor \n",
    "- Bases de datos relacionales y no relacionales\n",
    "- SQL\n",
    "- Python : nivel\n",
    "- R, nivel\n",
    "- Modelos supervisados: explicativos o predictivos\n",
    "- Modelos no supervisados\n",
    "- Modelos de lenguaje natural"
   ]
  },
  {
   "cell_type": "markdown",
   "id": "91307bd0-1460-4bb8-b6d9-7aac59a7d6ff",
   "metadata": {},
   "source": [
    "### Resultados esperados\n",
    "-\n",
    "-\n"
   ]
  },
  {
   "cell_type": "markdown",
   "id": "3e6eff77-4cbf-49ea-95b4-e1abe2e06004",
   "metadata": {},
   "source": [
    "### Tiempo de desarrollo esperado\n",
    "No puede ser mayor a 6 semanas.\n",
    "\n",
    "   -\n"
   ]
  }
 ],
 "metadata": {
  "kernelspec": {
   "display_name": "Python 3 (ipykernel)",
   "language": "python",
   "name": "python3"
  },
  "language_info": {
   "codemirror_mode": {
    "name": "ipython",
    "version": 3
   },
   "file_extension": ".py",
   "mimetype": "text/x-python",
   "name": "python",
   "nbconvert_exporter": "python",
   "pygments_lexer": "ipython3",
   "version": "3.8.13"
  }
 },
 "nbformat": 4,
 "nbformat_minor": 5
}
